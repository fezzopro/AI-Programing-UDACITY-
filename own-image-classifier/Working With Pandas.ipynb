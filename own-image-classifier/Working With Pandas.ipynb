{
 "cells": [
  {
   "cell_type": "code",
   "execution_count": 45,
   "id": "e83ace66",
   "metadata": {},
   "outputs": [],
   "source": [
    "# Import Pandas\n",
    "import pandas as pd\n",
    "\n",
    "# Pandas adds two more data structures to Python:   1. Series\n",
    "#                                                   2. Dataframe\n",
    "\n",
    "# Series\n",
    "\n",
    "groceries = pd.Series(data=[30, 6, 'Yes', 'No'], index=['eggs', 'apples', 'milk', 'bread'])\n"
   ]
  },
  {
   "cell_type": "code",
   "execution_count": 46,
   "id": "a59593e3",
   "metadata": {},
   "outputs": [
    {
     "data": {
      "text/plain": [
       "eggs       30\n",
       "apples      6\n",
       "milk      Yes\n",
       "bread      No\n",
       "dtype: object"
      ]
     },
     "execution_count": 46,
     "metadata": {},
     "output_type": "execute_result"
    }
   ],
   "source": [
    "groceries"
   ]
  },
  {
   "cell_type": "code",
   "execution_count": 47,
   "id": "9ad1cbc8",
   "metadata": {},
   "outputs": [
    {
     "data": {
      "text/plain": [
       "(4,)"
      ]
     },
     "execution_count": 47,
     "metadata": {},
     "output_type": "execute_result"
    }
   ],
   "source": [
    "groceries.shape"
   ]
  },
  {
   "cell_type": "code",
   "execution_count": 48,
   "id": "b8e244d3",
   "metadata": {},
   "outputs": [
    {
     "data": {
      "text/plain": [
       "1"
      ]
     },
     "execution_count": 48,
     "metadata": {},
     "output_type": "execute_result"
    }
   ],
   "source": [
    "groceries.ndim"
   ]
  },
  {
   "cell_type": "code",
   "execution_count": 49,
   "id": "2351b587",
   "metadata": {},
   "outputs": [
    {
     "data": {
      "text/plain": [
       "Index(['eggs', 'apples', 'milk', 'bread'], dtype='object')"
      ]
     },
     "execution_count": 49,
     "metadata": {},
     "output_type": "execute_result"
    }
   ],
   "source": [
    "groceries.index"
   ]
  },
  {
   "cell_type": "code",
   "execution_count": 50,
   "id": "dfea9fe8",
   "metadata": {},
   "outputs": [
    {
     "data": {
      "text/plain": [
       "array([30, 6, 'Yes', 'No'], dtype=object)"
      ]
     },
     "execution_count": 50,
     "metadata": {},
     "output_type": "execute_result"
    }
   ],
   "source": [
    "groceries.values"
   ]
  },
  {
   "cell_type": "code",
   "execution_count": 51,
   "id": "f9bd9977",
   "metadata": {},
   "outputs": [
    {
     "data": {
      "text/plain": [
       "True"
      ]
     },
     "execution_count": 51,
     "metadata": {},
     "output_type": "execute_result"
    }
   ],
   "source": [
    "'eggs' in groceries"
   ]
  },
  {
   "cell_type": "code",
   "execution_count": 52,
   "id": "4f46d74c",
   "metadata": {},
   "outputs": [
    {
     "data": {
      "text/plain": [
       "30"
      ]
     },
     "execution_count": 52,
     "metadata": {},
     "output_type": "execute_result"
    }
   ],
   "source": [
    "groceries['eggs']"
   ]
  },
  {
   "cell_type": "code",
   "execution_count": 53,
   "id": "7a830dac",
   "metadata": {},
   "outputs": [],
   "source": [
    "# Elements access using .loc() & .iloc()"
   ]
  },
  {
   "cell_type": "code",
   "execution_count": 54,
   "id": "46f492d2",
   "metadata": {},
   "outputs": [
    {
     "data": {
      "text/plain": [
       "30"
      ]
     },
     "execution_count": 54,
     "metadata": {},
     "output_type": "execute_result"
    }
   ],
   "source": [
    "groceries.iloc[0]"
   ]
  },
  {
   "cell_type": "code",
   "execution_count": 55,
   "id": "5a20d3b9",
   "metadata": {},
   "outputs": [
    {
     "data": {
      "text/plain": [
       "eggs      30\n",
       "apples     6\n",
       "dtype: object"
      ]
     },
     "execution_count": 55,
     "metadata": {},
     "output_type": "execute_result"
    }
   ],
   "source": [
    "groceries.loc[['eggs','apples']]"
   ]
  },
  {
   "cell_type": "code",
   "execution_count": 56,
   "id": "e14efbf8",
   "metadata": {},
   "outputs": [
    {
     "data": {
      "text/plain": [
       "milk     Yes\n",
       "bread     No\n",
       "dtype: object"
      ]
     },
     "execution_count": 56,
     "metadata": {},
     "output_type": "execute_result"
    }
   ],
   "source": [
    "groceries.iloc[[2,3]]"
   ]
  },
  {
   "cell_type": "code",
   "execution_count": 36,
   "id": "2f4ad856",
   "metadata": {},
   "outputs": [],
   "source": [
    "# Modifying values"
   ]
  },
  {
   "cell_type": "code",
   "execution_count": 37,
   "id": "05285452",
   "metadata": {},
   "outputs": [],
   "source": [
    "groceries['eggs'] = 2"
   ]
  },
  {
   "cell_type": "code",
   "execution_count": 38,
   "id": "9a78d285",
   "metadata": {},
   "outputs": [
    {
     "data": {
      "text/plain": [
       "eggs        2\n",
       "apples      6\n",
       "milk      Yes\n",
       "bread      No\n",
       "dtype: object"
      ]
     },
     "execution_count": 38,
     "metadata": {},
     "output_type": "execute_result"
    }
   ],
   "source": [
    "groceries"
   ]
  },
  {
   "cell_type": "code",
   "execution_count": 41,
   "id": "edc07002",
   "metadata": {},
   "outputs": [],
   "source": [
    "groceries.drop('apples', inplace=True)"
   ]
  },
  {
   "cell_type": "code",
   "execution_count": 42,
   "id": "c77eec0b",
   "metadata": {},
   "outputs": [
    {
     "data": {
      "text/plain": [
       "eggs       2\n",
       "milk     Yes\n",
       "bread     No\n",
       "dtype: object"
      ]
     },
     "execution_count": 42,
     "metadata": {},
     "output_type": "execute_result"
    }
   ],
   "source": [
    "groceries"
   ]
  },
  {
   "cell_type": "markdown",
   "id": "50aad92b",
   "metadata": {},
   "source": [
    "## Accessing Series Elements"
   ]
  },
  {
   "cell_type": "markdown",
   "id": "871eb4a0",
   "metadata": {},
   "source": [
    "##### Example 1. Access elements using index labels"
   ]
  },
  {
   "cell_type": "code",
   "execution_count": 57,
   "id": "e9e23693",
   "metadata": {},
   "outputs": [
    {
     "name": "stdout",
     "output_type": "stream",
     "text": [
      "How many eggs do we need to buy: 30\n",
      "\n",
      "Do we need milk and bread:\n",
      " milk     Yes\n",
      "bread     No\n",
      "dtype: object\n",
      "\n",
      "How many eggs and apples do we need to buy:\n",
      " eggs      30\n",
      "apples     6\n",
      "dtype: object\n",
      "\n",
      "How many eggs and apples do we need to buy:\n",
      " eggs      30\n",
      "apples     6\n",
      "dtype: object\n",
      "\n",
      "Do we need bread:\n",
      " bread    No\n",
      "dtype: object\n",
      "\n",
      "How many eggs do we need to buy: 30\n",
      "\n",
      "Do we need milk and bread:\n",
      " milk     Yes\n",
      "bread     No\n",
      "dtype: object\n"
     ]
    }
   ],
   "source": [
    "# We access elements in Groceries using index labels:\n",
    "\n",
    "# We use a single index label\n",
    "print('How many eggs do we need to buy:', groceries['eggs'])\n",
    "print()\n",
    "\n",
    "# we can access multiple index labels\n",
    "print('Do we need milk and bread:\\n', groceries[['milk', 'bread']]) \n",
    "print()\n",
    "\n",
    "# we use loc to access multiple index labels\n",
    "print('How many eggs and apples do we need to buy:\\n', groceries.loc[['eggs', 'apples']]) \n",
    "print()\n",
    "\n",
    "# We access elements in Groceries using numerical indices:\n",
    "\n",
    "# we use multiple numerical indices\n",
    "print('How many eggs and apples do we need to buy:\\n',  groceries[[0, 1]]) \n",
    "print()\n",
    "\n",
    "# We use a negative numerical index\n",
    "print('Do we need bread:\\n', groceries[[-1]]) \n",
    "print()\n",
    "\n",
    "# We use a single numerical index\n",
    "print('How many eggs do we need to buy:', groceries[0]) \n",
    "print()\n",
    "# we use iloc to access multiple numerical indices\n",
    "print('Do we need milk and bread:\\n', groceries.iloc[[2, 3]])"
   ]
  },
  {
   "cell_type": "markdown",
   "id": "0425f963",
   "metadata": {},
   "source": [
    "##### Example 2. Mutate elements using index labels"
   ]
  },
  {
   "cell_type": "code",
   "execution_count": 58,
   "id": "7c535402",
   "metadata": {},
   "outputs": [
    {
     "name": "stdout",
     "output_type": "stream",
     "text": [
      "Original Grocery List:\n",
      " eggs       30\n",
      "apples      6\n",
      "milk      Yes\n",
      "bread      No\n",
      "dtype: object\n",
      "\n",
      "Modified Grocery List:\n",
      " eggs        2\n",
      "apples      6\n",
      "milk      Yes\n",
      "bread      No\n",
      "dtype: object\n"
     ]
    }
   ],
   "source": [
    "# We display the original grocery list\n",
    "print('Original Grocery List:\\n', groceries)\n",
    "\n",
    "# We change the number of eggs to 2\n",
    "groceries['eggs'] = 2\n",
    "\n",
    "# We display the changed grocery list\n",
    "print()\n",
    "print('Modified Grocery List:\\n', groceries)"
   ]
  },
  {
   "cell_type": "markdown",
   "id": "d33966f9",
   "metadata": {},
   "source": [
    "##### Example 3. Delete elements out-of-place using `drop()`"
   ]
  },
  {
   "cell_type": "code",
   "execution_count": 59,
   "id": "9d379555",
   "metadata": {},
   "outputs": [
    {
     "name": "stdout",
     "output_type": "stream",
     "text": [
      "Original Grocery List:\n",
      " eggs        2\n",
      "apples      6\n",
      "milk      Yes\n",
      "bread      No\n",
      "dtype: object\n",
      "\n",
      "We remove apples (out of place):\n",
      " eggs       2\n",
      "milk     Yes\n",
      "bread     No\n",
      "dtype: object\n",
      "\n",
      "Grocery List after removing apples out of place:\n",
      " eggs        2\n",
      "apples      6\n",
      "milk      Yes\n",
      "bread      No\n",
      "dtype: object\n"
     ]
    }
   ],
   "source": [
    "# We display the original grocery list\n",
    "print('Original Grocery List:\\n', groceries)\n",
    "\n",
    "# We remove apples from our grocery list. The drop function removes elements out of place\n",
    "print()\n",
    "print('We remove apples (out of place):\\n', groceries.drop('apples'))\n",
    "\n",
    "# When we remove elements out of place the original Series remains intact. To see this\n",
    "# we display our grocery list again\n",
    "print()\n",
    "print('Grocery List after removing apples out of place:\\n', groceries)"
   ]
  },
  {
   "cell_type": "markdown",
   "id": "6880b7e3",
   "metadata": {},
   "source": [
    "We can delete items from a Pandas Series in place by setting the keyword ``inplace`` to ``True`` in the ``.drop()`` method. Let's see an example:"
   ]
  },
  {
   "cell_type": "markdown",
   "id": "a2b0a582",
   "metadata": {},
   "source": [
    "##### Example 4. Delete elements in-place using `drop()`"
   ]
  },
  {
   "cell_type": "code",
   "execution_count": null,
   "id": "1acf77ae",
   "metadata": {},
   "outputs": [],
   "source": []
  }
 ],
 "metadata": {
  "kernelspec": {
   "display_name": "Python 3",
   "language": "python",
   "name": "python3"
  },
  "language_info": {
   "codemirror_mode": {
    "name": "ipython",
    "version": 3
   },
   "file_extension": ".py",
   "mimetype": "text/x-python",
   "name": "python",
   "nbconvert_exporter": "python",
   "pygments_lexer": "ipython3",
   "version": "3.8.8"
  }
 },
 "nbformat": 4,
 "nbformat_minor": 5
}
